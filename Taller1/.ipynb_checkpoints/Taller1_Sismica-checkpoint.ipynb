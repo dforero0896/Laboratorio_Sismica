{
 "metadata": {
  "name": "",
  "signature": "sha256:af03ee5aa9876b3eee3408829d5e35bda3b0a88603ee2f888c7232151383c642"
 },
 "nbformat": 3,
 "nbformat_minor": 0,
 "worksheets": [
  {
   "cells": [
    {
     "cell_type": "code",
     "collapsed": false,
     "input": [
      "'''\n",
      "Daniel Felipe Forero S\u00e1nchez\n",
      "201415069\n",
      "Departamento de Geociencias\n",
      "Departamento de Fisica\n",
      "Universidad de Los Andes\n",
      "Laboratorio de S\u00edsmica - Taller 1\n",
      "Semestre: 201610\n",
      "\n",
      "El presente c\u00f3digo es un an\u00e1logo al encontrado en el archivo Taller1_Sismica.m de MATLAB y pretende ilustrar parte de la utilidad del\n",
      "lenguaje Python en el an\u00e1lisis de datos s\u00edsmicos, dado que considerando el programa de Geociencias considero \u00e9ste lenguaje mucho\n",
      "mas facil de utilizar.\n",
      "'''\n",
      "import numpy as np\n",
      "import matplotlib.pyplot as plt\n",
      "%matplotlib inline\n",
      "from scipy import signal\n",
      "from scipy.fftpack import fft, fftshift\n",
      "#import obspy\n",
      "#from obspy.io.segy.segy import _read_segy\n",
      "from obspy import read, Trace, Stream, UTCDateTime\n",
      "from obspy.io.segy.core import _read_segy"
     ],
     "language": "python",
     "metadata": {},
     "outputs": [],
     "prompt_number": 1
    },
    {
     "cell_type": "code",
     "collapsed": false,
     "input": [
      "#Se definen las variables a utilizar.\n",
      "\n",
      "tops=np.array([0., 350., 700., 1100., 1400., 1700.]) #m\n",
      "bottoms=np.array([350., 700., 1100., 1400., 1700., 2000.]) #m\n",
      "vP=np.array([2500., 3500., 5000., 6000., 4500., 6400.]) #m/s\n",
      "rho=np.array([2.3, 2.6, 2.7, 2.8, 2.2, 2.9])#g/cm**3\n",
      "espesores=bottoms-tops #m\n",
      "#Se calcula el tiempo que tarda una onda en atravesar dos veces una capa.\n",
      "t_int=10**3*2*espesores/vP #ms\n",
      "#Se genera el arreglo de tiempos acumulados para ver el tiempo total que toma a una onda volver al sensor.\n",
      "t_acc=[0.]\n",
      "for i in range(len(t_int)):\n",
      "    ultimot=t_acc[-1]\n",
      "    t_acc.append(sum(t_int[:i+1]))\n",
      "t_acc=np.array(t_acc[1:])\n",
      "\n",
      "#Se calculan las impedancias I1\n",
      "I1=vP*rho\n",
      "\n",
      "I2=np.roll(I1, -1)\n",
      "#Se calculan los coeficientes de reflexi\u00f3n.\n",
      "RC=(I2-I1)/(I2+I1)\n",
      "RC[-1]=0.\n",
      "\n",
      "#Se situan los coeficientes de reflexi\u00f3n en el tiempo debido.\n",
      "times1=np.zeros(1000)\n",
      "for i in range(len(t_acc)):\n",
      "    times1[t_acc[i]+1]=RC[i]\n",
      "\n",
      "#Se genera una und\u00edcula de Ricker de 20 ms de duraci\u00f3n\n",
      "ondicula1=2*signal.ricker(20, 3)\n",
      "\n",
      "#Se hace la convoluci\u00f3n entre el arreglo de R trasladados en tiempo y la ond\u00edcula.\n",
      "traza=signal.convolve(times1, ondicula1, mode='same')\n",
      "\n",
      "#Usando el m\u00f3dulo de Obspy para Python se hace un 'cast' del arreglo al objeto tipo Trace  \n",
      "#Es importante que el tipo de dato coincida con el formato a utilizar.\n",
      "theTrace=Trace(data=traza.astype(np.float32))\n",
      "#Es fundamental definir el intervalo de muestreo utilizado.\n",
      "theTrace.stats.delta=10**-3 #s\n",
      "#Se crea una lista que contiene 100 trazas (objetos Trace) id\u00e9nticas\n",
      "traces=[]\n",
      "for i in range(100):\n",
      "    traces.append(theTrace)\n",
      "#Se define un objeto tipo Stream que contiene las cien trazas.\n",
      "theStream=Stream(traces)\n",
      "print theStream\n",
      "#Se escribe el archivo SEGY .\n",
      "theStream.write('pythonTry_0.segy', format='SEGY') \n",
      "\n",
      "#Har\u00eda falta crear los otros 4 archivos para la s\u00edsmica 3D en OpendTect, descomentar el siguiete bloque si desea hacerlo.\n",
      "'''\n",
      "theStream.write('pythonTry_250.segy', format='SEGY') \n",
      "\n",
      "theStream.write('pythonTry_500.segy', format='SEGY') \n",
      "\n",
      "theStream.write('pythonTry_750.segy', format='SEGY') \n",
      "\n",
      "theStream.write('pythonTry_1000.segy', format='SEGY') \n",
      "'''"
     ],
     "language": "python",
     "metadata": {},
     "outputs": [
      {
       "output_type": "stream",
       "stream": "stdout",
       "text": [
        "100 Trace(s) in Stream:\n",
        "\n",
        "... | 1970-01-01T00:00:00.000000Z - 1970-01-01T00:00:00.999000Z | 1000.0 Hz, 1000 samples\n",
        "...\n",
        "(98 other traces)\n",
        "...\n",
        "... | 1970-01-01T00:00:00.000000Z - 1970-01-01T00:00:00.999000Z | 1000.0 Hz, 1000 samples\n",
        "\n",
        "[Use \"print(Stream.__str__(extended=True))\" to print all Traces]\n"
       ]
      },
      {
       "output_type": "stream",
       "stream": "stderr",
       "text": [
        "c:\\Users\\DanielFelipe\\Anaconda\\lib\\site-packages\\obspy\\io\\segy\\core.py:398: UserWarning: CREATING TRACE HEADER\n",
        "  warnings.warn(\"CREATING TRACE HEADER\")\n"
       ]
      },
      {
       "metadata": {},
       "output_type": "pyout",
       "prompt_number": 2,
       "text": [
        "\"\\ntheStream.write('pythonTry_250.segy', format='SEGY') \\n\\ntheStream.write('pythonTry_500.segy', format='SEGY') \\n\\ntheStream.write('pythonTry_750.segy', format='SEGY') \\n\\ntheStream.write('pythonTry_1000.segy', format='SEGY') \\n\""
       ]
      }
     ],
     "prompt_number": 2
    },
    {
     "cell_type": "code",
     "collapsed": false,
     "input": [
      "#Se demuestra brevemente como abrir archivos SEGY preexistentes.\n",
      "segy = read('trazasPunto2Taller1.segy')\n",
      "print segy\n",
      "print segy[0].stats.delta\n",
      "segy[0].plot()"
     ],
     "language": "python",
     "metadata": {},
     "outputs": [
      {
       "output_type": "stream",
       "stream": "stdout",
       "text": [
        "10 Trace(s) in Stream:\n",
        "Seq. No. in line:    0 | 2016-03-05T22:12:32.000000Z - 2016-03-05T22:12:32.399000Z | 1000.0 Hz, 400 samples\n",
        "Seq. No. in line:    0 | 2016-03-05T22:12:32.000000Z - 2016-03-05T22:12:32.399000Z | 1000.0 Hz, 400 samples\n",
        "Seq. No. in line:    0 | 2016-03-05T22:12:32.000000Z - 2016-03-05T22:12:32.399000Z | 1000.0 Hz, 400 samples\n",
        "Seq. No. in line:    0 | 2016-03-05T22:12:32.000000Z - 2016-03-05T22:12:32.399000Z | 1000.0 Hz, 400 samples\n",
        "Seq. No. in line:    0 | 2016-03-05T22:12:32.000000Z - 2016-03-05T22:12:32.399000Z | 1000.0 Hz, 400 samples\n",
        "Seq. No. in line:    0 | 2016-03-05T22:12:32.000000Z - 2016-03-05T22:12:32.399000Z | 1000.0 Hz, 400 samples\n",
        "Seq. No. in line:    0 | 2016-03-05T22:12:32.000000Z - 2016-03-05T22:12:32.399000Z | 1000.0 Hz, 400 samples\n",
        "Seq. No. in line:    0 | 2016-03-05T22:12:32.000000Z - 2016-03-05T22:12:32.399000Z | 1000.0 Hz, 400 samples\n",
        "Seq. No. in line:    0 | 2016-03-05T22:12:32.000000Z - 2016-03-05T22:12:32.399000Z | 1000.0 Hz, 400 samples\n",
        "Seq. No. in line:    0 | 2016-03-05T22:12:32.000000Z - 2016-03-05T22:12:32.399000Z | 1000.0 Hz, 400 samples\n",
        "0.001\n"
       ]
      },
      {
       "metadata": {},
       "output_type": "display_data",
       "png": "[encoded data removed]",
       "text": [
        "<matplotlib.figure.Figure at 0x89bd630>"
       ]
      }
     ],
     "prompt_number": 3
    },
    {
     "cell_type": "code",
     "collapsed": false,
     "input": [
      "#Punto 2\n",
      "\n",
      "#Se define el arreglo de velocidades de onda S.\n",
      "vS=[1500., 2500.]#m/s\n",
      "\n",
      "#Se crea el arreglo de \u00e1ngulos de incidencia.\n",
      "theta_i=np.linspace(0, 45, 10)\n",
      "#Se convierte a radianes.\n",
      "theta_i=np.deg2rad(theta_i)\n",
      "#print theta_i\n",
      "#Se calculan los tiempos de llegada\n",
      "times_SandTop=10**3*(2*espesores[0])/(vP[0]*np.cos(theta_i)) #ms\n",
      "\n",
      "#Se crea y calcula el coseno del \u00e1ngulo theta_2 usando ley de Snell\n",
      "co_theta_r=(1-(vP[1]**2/vP[0]**2)*(np.sin(theta_i))**2)**(1./2.)\n",
      "\n",
      "#Se usa la aproximaci\u00f3n para crear el arreglo de coeficientes de reflexi\u00f3n.\n",
      "Rpp=(1./2.)*np.log((vP[1]*rho[1]*np.cos(theta_i))/(vP[0]*rho[0]*co_theta_r))\\\n",
      "+(np.sin(theta_i)/vP[0])**2*(vS[0]**2-vS[1]**2)*(2+(np.log(rho[1]/rho[0])/np.log(vS[1]/vS[0])))\n",
      "\n",
      "#Se trasladan los coeficientes de reflexi\u00f3n en el tiempo.\n",
      "RCs=np.zeros([400,10])\n",
      "for i in range(len(RCs[0, :])):\n",
      "    RCs[int(times_SandTop[i]), i]=Rpp[i]\n",
      "\n",
      "#Se crea una lista con las diez trazas a utilizar  \n",
      "tracesAngles=[]\n",
      "for i in range(10):\n",
      "    arraytrace=signal.convolve(RCs[:, i], ondicula1, mode=\"same\")\n",
      "    Tracetrace=Trace(data=arraytrace.astype(np.float32))\n",
      "    Tracetrace.stats.delta=10**-3 #s\n",
      "    tracesAngles.append(Tracetrace)\n",
      "#Se crea el objeto Stream.\n",
      "finalStream=Stream(tracesAngles)\n",
      "#Se exporta el Stream al archivo SEGY-\n",
      "finalStream.write('punto2python.segy', format='SEGY')"
     ],
     "language": "python",
     "metadata": {},
     "outputs": [],
     "prompt_number": 27
    },
    {
     "cell_type": "markdown",
     "metadata": {},
     "source": [
      "#Referencias\n",
      "\n",
      "+[Stream writing](http://docs.obspy.org/packages/autogen/obspy.core.stream.Stream.write.html#obspy.core.stream.Stream.write)\n",
      "\n",
      "\n",
      "+[Stream](http://docs.obspy.org/packages/autogen/obspy.core.stream.Stream.html#obspy-core-stream-stream)\n",
      "\n",
      "\n",
      "+[Trace](http://docs.obspy.org/packages/autogen/obspy.core.trace.Trace.html#obspy-core-trace-trace)\n",
      "\n"
     ]
    },
    {
     "cell_type": "code",
     "collapsed": false,
     "input": [],
     "language": "python",
     "metadata": {},
     "outputs": []
    },
    {
     "cell_type": "code",
     "collapsed": false,
     "input": [],
     "language": "python",
     "metadata": {},
     "outputs": []
    }
   ],
   "metadata": {}
  }
 ]
}